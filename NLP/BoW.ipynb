{
 "cells": [
  {
   "cell_type": "code",
   "execution_count": 3,
   "id": "223fe304",
   "metadata": {},
   "outputs": [],
   "source": [
    "import string\n",
    "from collections import defaultdict"
   ]
  },
  {
   "cell_type": "code",
   "execution_count": 47,
   "id": "f72a523c",
   "metadata": {},
   "outputs": [],
   "source": [
    "corpus = [\n",
    "    \"The quick brown fox jumps over the lazy dog.\",\n",
    "    \"A journey of a thousand miles begins with a single step.\",\n",
    "    \"To be or not to be, that is the question.\"\n",
    "]"
   ]
  },
  {
   "cell_type": "code",
   "execution_count": 48,
   "id": "1d66b844",
   "metadata": {},
   "outputs": [],
   "source": [
    "def preprocess_text(text):\n",
    "    \"\"\"Preprocess the text by converting to lowercase and removing punctuation.\"\"\"\n",
    "    text = text.lower()\n",
    "    text = text.translate(str.maketrans(\"\", \"\", string.punctuation))\n",
    "    return text.split()"
   ]
  },
  {
   "cell_type": "code",
   "execution_count": 49,
   "id": "d30f4f69",
   "metadata": {},
   "outputs": [],
   "source": [
    "preprocessed_text = [preprocess_text(doc) for doc in corpus]"
   ]
  },
  {
   "cell_type": "code",
   "execution_count": 50,
   "id": "4b497a09",
   "metadata": {},
   "outputs": [
    {
     "name": "stdout",
     "output_type": "stream",
     "text": [
      "[['the', 'quick', 'brown', 'fox', 'jumps', 'over', 'the', 'lazy', 'dog'], ['a', 'journey', 'of', 'a', 'thousand', 'miles', 'begins', 'with', 'a', 'single', 'step'], ['to', 'be', 'or', 'not', 'to', 'be', 'that', 'is', 'the', 'question']]\n"
     ]
    }
   ],
   "source": [
    "print(preprocessed_text)"
   ]
  },
  {
   "cell_type": "code",
   "execution_count": 51,
   "id": "2a8f32a2",
   "metadata": {},
   "outputs": [],
   "source": [
    "vocabulary = sorted(set(word for doc in preprocessed_text for word in doc))"
   ]
  },
  {
   "cell_type": "code",
   "execution_count": 52,
   "id": "f5943d2b",
   "metadata": {},
   "outputs": [
    {
     "data": {
      "text/plain": [
       "['a',\n",
       " 'be',\n",
       " 'begins',\n",
       " 'brown',\n",
       " 'dog',\n",
       " 'fox',\n",
       " 'is',\n",
       " 'journey',\n",
       " 'jumps',\n",
       " 'lazy',\n",
       " 'miles',\n",
       " 'not',\n",
       " 'of',\n",
       " 'or',\n",
       " 'over',\n",
       " 'question',\n",
       " 'quick',\n",
       " 'single',\n",
       " 'step',\n",
       " 'that',\n",
       " 'the',\n",
       " 'thousand',\n",
       " 'to',\n",
       " 'with']"
      ]
     },
     "execution_count": 52,
     "metadata": {},
     "output_type": "execute_result"
    }
   ],
   "source": [
    "vocabulary"
   ]
  },
  {
   "cell_type": "code",
   "execution_count": 53,
   "id": "b23d72dc",
   "metadata": {},
   "outputs": [],
   "source": [
    "bow_vectors = []\n",
    "for doc in preprocessed_text:\n",
    "    '''\n",
    "    Create a bag-of-words vector for each document.\n",
    "    Each vector has the same length as the vocabulary, and the value at each index corresponds to the count of the word at that index in the document.\n",
    "    '''\n",
    "    vector = [0] * len(vocabulary)\n",
    "    word_count = defaultdict(int)\n",
    "    for word in doc:\n",
    "        word_count[word] += 1\n",
    "    for i, word in enumerate(vocabulary):\n",
    "        vector[i] = word_count.get(word, 0)\n",
    "    bow_vectors.append(vector)"
   ]
  },
  {
   "cell_type": "code",
   "execution_count": 54,
   "id": "a037c434",
   "metadata": {},
   "outputs": [
    {
     "name": "stdout",
     "output_type": "stream",
     "text": [
      "Vocabulary:  ['a', 'be', 'begins', 'brown', 'dog', 'fox', 'is', 'journey', 'jumps', 'lazy', 'miles', 'not', 'of', 'or', 'over', 'question', 'quick', 'single', 'step', 'that', 'the', 'thousand', 'to', 'with']\n",
      "Bag-of-Words Vectors:  [[0, 0, 0, 1, 1, 1, 0, 0, 1, 1, 0, 0, 0, 0, 1, 0, 1, 0, 0, 0, 2, 0, 0, 0], [3, 0, 1, 0, 0, 0, 0, 1, 0, 0, 1, 0, 1, 0, 0, 0, 0, 1, 1, 0, 0, 1, 0, 1], [0, 2, 0, 0, 0, 0, 1, 0, 0, 0, 0, 1, 0, 1, 0, 1, 0, 0, 0, 1, 1, 0, 2, 0]]\n"
     ]
    }
   ],
   "source": [
    "print('Vocabulary: ', vocabulary)\n",
    "print('Bag-of-Words Vectors: ', bow_vectors)"
   ]
  }
 ],
 "metadata": {
  "kernelspec": {
   "display_name": "Python 3",
   "language": "python",
   "name": "python3"
  },
  "language_info": {
   "codemirror_mode": {
    "name": "ipython",
    "version": 3
   },
   "file_extension": ".py",
   "mimetype": "text/x-python",
   "name": "python",
   "nbconvert_exporter": "python",
   "pygments_lexer": "ipython3",
   "version": "3.11.8"
  }
 },
 "nbformat": 4,
 "nbformat_minor": 5
}
